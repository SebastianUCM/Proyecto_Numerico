{
 "cells": [
  {
   "cell_type": "code",
   "execution_count": 1,
   "metadata": {},
   "outputs": [],
   "source": [
    "# some handy functions to use along widgets\n",
    "from IPython.display import display, Markdown, clear_output\n",
    "# widget packages\n",
    "import ipywidgets as widgets"
   ]
  },
  {
   "cell_type": "code",
   "execution_count": 3,
   "metadata": {
    "scrolled": true
   },
   "outputs": [
    {
     "data": {
      "text/markdown": [
       "# 2D/3D Grapher\n",
       "- Write down the equation you want to plot in the Equation window. \n",
       "- If only $X$ or $Y$ is defined in the equation a 2D plot will be shown.\n",
       "- If $Y$ and $X$ are defined a 3D plot will be shown.\n",
       "- Detail specifies the number of points created between the specified range."
      ],
      "text/plain": [
       "<IPython.core.display.Markdown object>"
      ]
     },
     "metadata": {},
     "output_type": "display_data"
    },
    {
     "data": {
      "application/vnd.jupyter.widget-view+json": {
       "model_id": "a11cf95085014e389dc51927522d62b0",
       "version_major": 2,
       "version_minor": 0
      },
      "text/plain": [
       "VBox(children=(IntText(value=50, description='Detail:'), FloatRangeSlider(value=(-5.0, 5.0), description='rang…"
      ]
     },
     "metadata": {},
     "output_type": "display_data"
    }
   ],
   "source": [
    "from IPython.core.display import display, HTML, Markdown, clear_output\n",
    "import json\n",
    "import numpy as np\n",
    "import matplotlib.pyplot as plt\n",
    "import ipywidgets as widgets\n",
    "\n",
    "# Defining Widgets: \n",
    "equation = widgets.Text(\n",
    "            value='np.sin(X*Y)+np.cos(X+Y)',\n",
    "            placeholder='Type something',\n",
    "            description='Equation:')\n",
    "range_ = widgets.FloatRangeSlider(\n",
    "    value=[-5, 5],\n",
    "    min=-100,\n",
    "    step=0.1,\n",
    "    description='range:',\n",
    "    orientation='horizontal',\n",
    "    readout=True,\n",
    "    readout_format='d',)\n",
    "points = widgets.IntText(\n",
    "    value=50,\n",
    "    description='Detail:')\n",
    "\n",
    "# DEFINING FUNCTIONS\n",
    "def plot2D(x_points):\n",
    "    # I find where the letter X is in my equation text and replace by placeholders {}\n",
    "    number_of_placeholders = equation.value.count('X')\n",
    "    decomposed_equation = equation.value.replace('X', '{}')\n",
    "    y = []\n",
    "    for point in x_points:\n",
    "        dicti = {i: point for i in range(number_of_placeholders)}\n",
    "        decomposed_eq = decomposed_equation.format(*dicti.values())   \n",
    "        # WARNING: couldn't figure out any other way, let me know if you know\n",
    "        exec(\"\"\"global res\n",
    "res = {}\"\"\".format(decomposed_eq))\n",
    "        y.append(res)\n",
    "    plt.plot(x_points, y)\n",
    "    plt.show()\n",
    "\n",
    "def plot3D(X, Y, Z):\n",
    "    options = {\n",
    "        \"width\": \"100%\",\n",
    "        \"style\": \"surface\",\n",
    "        \"showPerspective\": True,\n",
    "        \"showGrid\": True,\n",
    "        \"showShadow\": True,\n",
    "        \"keepAspectRatio\": False,\n",
    "        \"height\": \"600px\"}\n",
    "     # LOADING DATA\n",
    "    data = [ {\"x\": X[y,x], \n",
    "              \"y\": Y[y,x], \n",
    "              \"z\": Z[y,x]} for y in range(Y.shape[0]) for x in range(Y.shape[1]) ]  \n",
    "    visual_code = r\"\"\"\n",
    "       <link href=\"https://cdnjs.cloudflare.com/ajax/libs/vis/4.21.0/vis.min.css\" type=\"text/css\" rel=\"stylesheet\" />\n",
    "       <script src=\"https://cdnjs.cloudflare.com/ajax/libs/vis/4.21.0/vis.min.js\"></script>\n",
    "       <div id=\"pos\" style=\"top:0px;left:0px;position:absolute;\"></div>\n",
    "       <div id=\"visualization\"></div>      \n",
    "       <script type=\"text/javascript\">\n",
    "        var data = new vis.DataSet();\n",
    "        data.add(\"\"\" + json.dumps(data) + \"\"\");\n",
    "        var options = \"\"\" + json.dumps(options) + \"\"\";\n",
    "        var container = document.getElementById(\"visualization\");\n",
    "        var graph3d = new vis.Graph3d(container, data, options);\n",
    "        // setting the camera position initial\n",
    "        graph3d.setCameraPosition({horizontal:0.8197963, vertical:0.945, distance:1.988})\n",
    "        graph3d.on(\"cameraPositionChange\", function(evt)\n",
    "        {\n",
    "            elem = document.getElementById(\"pos\");\n",
    "            elem.innerHTML = \"Horizontal: \" + evt.horizontal + \"<br>Vertical: \" + evt.vertical + \"<br>Camera Distance: \" + evt.distance;\n",
    "        });\n",
    "       </script>\n",
    "    \"\"\"\n",
    "    html= \"<iframe srcdoc='\"+visual_code+\"' width='75%' height='600px' style='border:10;' scrolling='no'> </iframe>\"\n",
    "    display(HTML(html))\n",
    "    \n",
    "# CREATING BUTTON\n",
    "# if X and Y are inside equation.value we run plot3D\n",
    "# otherwise we run plot2D\n",
    "button = widgets.Button(description='Reveal Equation')\n",
    "out = widgets.Output()\n",
    "def on_button_clicked(b):\n",
    "    global X, Y\n",
    "    with out:\n",
    "        clear_output()    \n",
    "        # computing the x points to evaluate our function\n",
    "        x_points = np.linspace(range_.value[0], \n",
    "            range_.value[1], points.value)\n",
    "        X, Y = np.meshgrid(x_points, x_points)\n",
    "        # WARNING: couldn't figure out any other way, let me know if you know\n",
    "        exec(\"\"\"global Z\n",
    "Z = {}\n",
    "\"\"\".format(equation.value))\n",
    "        if 'Y' in equation.value and 'X' in equation.value:\n",
    "            plot3D(X,Y,Z)\n",
    "        elif 'Y' in equation.value:\n",
    "            equation.value = equation.value.replace('Y', 'X')\n",
    "            plot2D(x_points)\n",
    "        else:\n",
    "            plot2D(x_points)    \n",
    "button.on_click(on_button_clicked)\n",
    "info = Markdown(\"\"\"# 2D/3D Grapher\n",
    "- Write down the equation you want to plot in the Equation window. \n",
    "- If only $X$ or $Y$ is defined in the equation a 2D plot will be shown.\n",
    "- If $Y$ and $X$ are defined a 3D plot will be shown.\n",
    "- Detail specifies the number of points created between the specified range.\"\"\")\n",
    "grapher = widgets.VBox([points, range_,  equation, button, out])\n",
    "display(info, grapher)"
   ]
  },
  {
   "cell_type": "code",
   "execution_count": null,
   "metadata": {},
   "outputs": [],
   "source": []
  }
 ],
 "metadata": {
  "kernelspec": {
   "display_name": "Python 3",
   "language": "python",
   "name": "python3"
  },
  "language_info": {
   "codemirror_mode": {
    "name": "ipython",
    "version": 3
   },
   "file_extension": ".py",
   "mimetype": "text/x-python",
   "name": "python",
   "nbconvert_exporter": "python",
   "pygments_lexer": "ipython3",
   "version": "3.7.3"
  }
 },
 "nbformat": 4,
 "nbformat_minor": 2
}
